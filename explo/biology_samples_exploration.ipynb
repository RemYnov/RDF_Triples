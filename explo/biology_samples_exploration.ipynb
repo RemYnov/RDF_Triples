{
 "cells": [
  {
   "cell_type": "code",
   "execution_count": 1,
   "metadata": {
    "collapsed": true,
    "ExecuteTime": {
     "start_time": "2023-04-12T21:54:27.598968Z",
     "end_time": "2023-04-12T21:54:28.401461Z"
    }
   },
   "outputs": [],
   "source": [
    "import pandas as pd\n",
    "import matplotlib.pyplot as plt\n",
    "import json\n",
    "\n",
    "RDF_DATA_PATH = \"D:/MEP/SANDBOX/data/\"\n",
    "SAMPLES_FOLDER_PATH = RDF_DATA_PATH + \"sparkedData/sample_biology_triples/\"\n",
    "MERGED_SAMPLES_FILEPATH = SAMPLES_FOLDER_PATH + \"merged_biology_triples.csv\"\n",
    "UNIQUE_PREDICATES_FILEPATH = RDF_DATA_PATH + \"test/merged_unique_predicates.csv\"\n",
    "PREDICATES_TEMPLATE_PATH = RDF_DATA_PATH + \"test/predicates_template.json\""
   ]
  },
  {
   "cell_type": "code",
   "execution_count": null,
   "outputs": [],
   "source": [
    "df_triples = pd.read_csv(UNIQUE_PREDICATES_FILEPATH, header=None)\n",
    "#df_predicates = df_predicates.sort_values(by=0)\n",
    "d#f_triples.reset_index(drop=True, inplace=True)\n",
    "\n",
    "print(df_triples[0:20])"
   ],
   "metadata": {
    "collapsed": false
   }
  }
 ],
 "metadata": {
  "kernelspec": {
   "display_name": "Python 3",
   "language": "python",
   "name": "python3"
  },
  "language_info": {
   "codemirror_mode": {
    "name": "ipython",
    "version": 2
   },
   "file_extension": ".py",
   "mimetype": "text/x-python",
   "name": "python",
   "nbconvert_exporter": "python",
   "pygments_lexer": "ipython2",
   "version": "2.7.6"
  }
 },
 "nbformat": 4,
 "nbformat_minor": 0
}
