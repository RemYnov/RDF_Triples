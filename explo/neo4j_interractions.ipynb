{
 "cells": [
  {
   "cell_type": "code",
   "execution_count": 1,
   "metadata": {
    "collapsed": true,
    "ExecuteTime": {
     "start_time": "2023-05-15T22:26:00.562806Z",
     "end_time": "2023-05-15T22:26:03.255134Z"
    }
   },
   "outputs": [
    {
     "name": "stdout",
     "output_type": "stream",
     "text": [
      "Requirement already satisfied: neo4j in c:\\users\\blremi\\birdlink\\mep\\sandbox\\workspace\\v_env\\lib\\site-packages (5.7.0)\n",
      "Requirement already satisfied: pytz in c:\\users\\blremi\\birdlink\\mep\\sandbox\\workspace\\v_env\\lib\\site-packages (from neo4j) (2023.3)\n"
     ]
    },
    {
     "name": "stderr",
     "output_type": "stream",
     "text": [
      "\n",
      "[notice] A new release of pip is available: 23.0.1 -> 23.1.2\n",
      "[notice] To update, run: python.exe -m pip install --upgrade pip\n"
     ]
    }
   ],
   "source": [
    "!pip install neo4j\n"
   ]
  },
  {
   "cell_type": "code",
   "execution_count": 4,
   "outputs": [],
   "source": [
    "from neo4j import GraphDatabase\n",
    "NEO4J_URL = \"bolt://localhost:7687\"\n",
    "NEO4J_USER = \"neo4j\"\n",
    "NEO4J_PASSWORD = \"neo4jthebest\"\n",
    "CSV_PATH = \"/path/to/your/csv/files\""
   ],
   "metadata": {
    "collapsed": false,
    "ExecuteTime": {
     "start_time": "2023-05-15T22:26:54.770799Z",
     "end_time": "2023-05-15T22:26:54.793795Z"
    }
   }
  },
  {
   "cell_type": "code",
   "execution_count": 5,
   "outputs": [],
   "source": [
    "def execute_query(self, database, query, parameters=None):\n",
    "    if parameters is None:\n",
    "        parameters = {}\n",
    "\n",
    "    with self._driver.session(database=database) as session:\n",
    "        result = session.run(query, parameters)\n",
    "        return result.values()"
   ],
   "metadata": {
    "collapsed": false,
    "ExecuteTime": {
     "start_time": "2023-05-15T22:26:55.689301Z",
     "end_time": "2023-05-15T22:26:55.700288Z"
    }
   }
  },
  {
   "cell_type": "code",
   "execution_count": 6,
   "outputs": [],
   "source": [
    "driver = GraphDatabase.driver(NEO4J_URL, auth=(NEO4J_USER, NEO4J_PASSWORD))"
   ],
   "metadata": {
    "collapsed": false,
    "ExecuteTime": {
     "start_time": "2023-05-15T22:26:59.495971Z",
     "end_time": "2023-05-15T22:26:59.506969Z"
    }
   }
  },
  {
   "cell_type": "code",
   "execution_count": 10,
   "outputs": [
    {
     "name": "stdout",
     "output_type": "stream",
     "text": [
      "[[<Node element_id='0' labels=frozenset({'Init'}) properties={'desc': 'First Node'}>]]\n"
     ]
    }
   ],
   "source": [
    "parameters = None\n",
    "query = \"MATCH (n) RETURN n LIMIT 10\"\n",
    "create= \"MERGE (a:Init { desc: 'First Node' })\"\n",
    "\n",
    "if parameters is None:\n",
    "    parameters = {}\n",
    "\n",
    "with driver.session() as session:\n",
    "    result = session.run(query, parameters)\n",
    "    print(result.values())"
   ],
   "metadata": {
    "collapsed": false,
    "ExecuteTime": {
     "start_time": "2023-05-15T22:30:58.606797Z",
     "end_time": "2023-05-15T22:30:58.637502Z"
    }
   }
  },
  {
   "cell_type": "code",
   "execution_count": null,
   "outputs": [],
   "source": [],
   "metadata": {
    "collapsed": false
   }
  }
 ],
 "metadata": {
  "kernelspec": {
   "display_name": "Python 3",
   "language": "python",
   "name": "python3"
  },
  "language_info": {
   "codemirror_mode": {
    "name": "ipython",
    "version": 2
   },
   "file_extension": ".py",
   "mimetype": "text/x-python",
   "name": "python",
   "nbconvert_exporter": "python",
   "pygments_lexer": "ipython2",
   "version": "2.7.6"
  }
 },
 "nbformat": 4,
 "nbformat_minor": 0
}
